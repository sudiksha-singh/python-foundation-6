{
 "cells": [
  {
   "cell_type": "code",
   "execution_count": null,
   "id": "4f6c4ecc-e4cd-4f3f-8289-667af916c132",
   "metadata": {},
   "outputs": [],
   "source": [
    "#1\n",
    "#a tuple is an ordered collection of elements, similar to a list, but immutable. It is defined using parentheses () and elements are separated by commas. Once created, elements in a tuple cannot be changed, added, or removed."
   ]
  },
  {
   "cell_type": "code",
   "execution_count": 2,
   "id": "1d186d80-4c75-4ca4-8b8e-fbd8c2347c31",
   "metadata": {},
   "outputs": [],
   "source": [
    "# 2\n",
    "# Create a tuple\n",
    "tuple1  = (1, 2, 3, 4, 5)\n"
   ]
  },
  {
   "cell_type": "code",
   "execution_count": null,
   "id": "bac4fa21-19b4-4e3b-9081-90306cda3dc2",
   "metadata": {},
   "outputs": [],
   "source": [
    "#3\n",
    "#Mutability:\n",
    "#Tuple: Immutable (cannot be changed after creation).\n",
    "#List: Mutable (can be changed after creation).\n",
    "\n",
    "#Syntax:\n",
    "#Tuple: Defined using parentheses () or without parentheses (comma-separated).\n",
    "#List: Defined using square brackets [].\n",
    "\n",
    "#Performance:\n",
    "#Tuple: Generally faster and more memory-efficient due to immutability.\n",
    "#List: May be slower and consume more memory due to mutability.\n",
    "\n",
    "#Use cases:\n",
    "#Tuple: Fixed collections of elements where immutability is desired.\n",
    "#List: Dynamic collections of elements that need to be modified."
   ]
  },
  {
   "cell_type": "code",
   "execution_count": null,
   "id": "c7fefb9f-d94e-4291-b622-48d851eb867d",
   "metadata": {},
   "outputs": [],
   "source": [
    "#4 No, a tuple cannot be changed in Python after it has been created"
   ]
  },
  {
   "cell_type": "code",
   "execution_count": null,
   "id": "d5015961-329a-4a66-bcfc-805d742f40a2",
   "metadata": {},
   "outputs": [],
   "source": [
    "#5 by indexing we can access the element in tuple\n",
    "\n",
    "my_tuple = (1, 2, 3, 4, 5)\n",
    "first_element = my_tuple[0]  # Access the first element\n",
    "third_element = my_tuple[2]  # Access the third element"
   ]
  },
  {
   "cell_type": "code",
   "execution_count": null,
   "id": "2012db3e-c065-46be-9950-6825e202c1f3",
   "metadata": {},
   "outputs": [],
   "source": [
    "#6\n",
    "# Define a tuple\n",
    "my_tuple = (1, 2, 3)\n",
    "\n",
    "# Unpack the tuple into individual variables\n",
    "a, b, c = my_tuple\n",
    "\n",
    "# Output the unpacked variables\n",
    "print(\"a:\", a)\n",
    "print(\"b:\", b)\n",
    "print(\"c:\", c) "
   ]
  }
 ],
 "metadata": {
  "kernelspec": {
   "display_name": "Python 3 (ipykernel)",
   "language": "python",
   "name": "python3"
  },
  "language_info": {
   "codemirror_mode": {
    "name": "ipython",
    "version": 3
   },
   "file_extension": ".py",
   "mimetype": "text/x-python",
   "name": "python",
   "nbconvert_exporter": "python",
   "pygments_lexer": "ipython3",
   "version": "3.10.8"
  }
 },
 "nbformat": 4,
 "nbformat_minor": 5
}
